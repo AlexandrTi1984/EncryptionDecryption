{
  "nbformat": 4,
  "nbformat_minor": 0,
  "metadata": {
    "colab": {
      "provenance": [],
      "include_colab_link": true
    },
    "kernelspec": {
      "name": "python3",
      "display_name": "Python 3"
    },
    "language_info": {
      "name": "python"
    }
  },
  "cells": [
    {
      "cell_type": "markdown",
      "metadata": {
        "id": "view-in-github",
        "colab_type": "text"
      },
      "source": [
        "<a href=\"https://colab.research.google.com/github/AlexandrTi1984/EncryptionDecryption/blob/main/%D0%A1%D0%B8%D0%BC%D0%BC%D0%B5%D1%82%D1%80%D0%B8%D1%87%D0%BD%D0%BE%D0%B5_%D1%88%D0%B8%D1%84%D1%80%D0%BE%D0%B2%D0%B0%D0%BD%D0%B8%D0%B5.ipynb\" target=\"_parent\"><img src=\"https://colab.research.google.com/assets/colab-badge.svg\" alt=\"Open In Colab\"/></a>"
      ]
    },
    {
      "cell_type": "markdown",
      "source": [
        "Симметричное шифрование"
      ],
      "metadata": {
        "id": "d4fXZKSp0TpR"
      }
    },
    {
      "cell_type": "markdown",
      "source": [
        "Алгоритм пропорциональной замены\n",
        "\n"
      ],
      "metadata": {
        "id": "osPqC0RIjLFm"
      }
    },
    {
      "cell_type": "code",
      "source": [
        "def mod_inverse(a, m):\n",
        "    m0, x0, x1 = m, 0, 1\n",
        "    while a > 1:\n",
        "        q = a // m\n",
        "        m, a = a % m, m\n",
        "        x0, x1 = x1 - q * x0, x0\n",
        "    return x1 + m0 if x1 < 0 else x1\n",
        "\n",
        "\n",
        "def proportional_substitution_encrypt(plaintext, key):\n",
        "    encrypted_text = '' #Инициализация переменной для хранения зашифрованного текста.\n",
        "    for char in plaintext: #Итерация по каждому символу в открытом тексте\n",
        "\n",
        "    #Шифрование символа путем умножения его кода на ключ (key) и взятия остатка от деления на 256.\n",
        "    #Результат преобразуется обратно в символ и добавляется к зашифрованному тексту.\n",
        "        encrypted_text += chr((ord(char) * key) % 256)\n",
        "    return encrypted_text\n",
        "\n",
        "def proportional_substitution_decrypt(ciphertext, key):\n",
        "    decrypted_text = ''\n",
        "    for char in ciphertext:\n",
        "    #Дешифрование символа путем умножения его кода на обратное по модулю значение ключа (mod_inverse(key, 256)) и взятия остатка от деления на 256.\n",
        "    #Результат преобразуется обратно в символ и добавляется к расшифрованному тексту.\n",
        "        decrypted_text += chr((ord(char) * mod_inverse(key, 256)) % 256)\n",
        "    return decrypted_text\n",
        "\n",
        "key = 3\n",
        "plaintext = \"HELLO\"\n",
        "encrypted_text = proportional_substitution_encrypt(plaintext, key)\n",
        "decrypted_text = proportional_substitution_decrypt(encrypted_text, key)\n",
        "\n",
        "print(\"Исходный текст:\", plaintext)\n",
        "print(\"Зашифрованный текст:\", encrypted_text)\n",
        "print(\"Расшифрованный текст:\", decrypted_text)\n"
      ],
      "metadata": {
        "id": "_WNZH8pbjLU2",
        "colab": {
          "base_uri": "https://localhost:8080/"
        },
        "outputId": "4175a3c9-5767-4234-ed98-0488c0ceb59b"
      },
      "execution_count": 89,
      "outputs": [
        {
          "output_type": "stream",
          "name": "stdout",
          "text": [
            "Исходный текст: HELLO\n",
            "Зашифрованный текст: ØÏääí\n",
            "Расшифрованный текст: HELLO\n"
          ]
        }
      ]
    },
    {
      "cell_type": "markdown",
      "source": [
        "Линейная перестановка по ключу"
      ],
      "metadata": {
        "id": "HBnVcknjjQf_"
      }
    },
    {
      "cell_type": "code",
      "source": [
        "def linear_permutation_encrypt(plaintext, key):\n",
        "    encrypted_text = ''\n",
        "    for i in range(len(plaintext)):\n",
        "      #Шифрование символа с использованием линейной перестановки.\n",
        "      #Индекс символа умножается на ключ (key), и затем берется остаток от деления на длину открытого текста (len(plaintext)).\n",
        "      #Результат добавляется к зашифрованному тексту.\n",
        "        encrypted_text += plaintext[(i * key) % len(plaintext)]\n",
        "    return encrypted_text\n",
        "\n",
        "def linear_permutation_decrypt(ciphertext, key):\n",
        "    decrypted_text = ''\n",
        "    for i in range(len(ciphertext)):\n",
        "      #Дешифрование символа с использованием линейной перестановки.\n",
        "      #Индекс символа умножается на обратное по модулю значение ключа (mod_inverse(key, len(ciphertext))),\n",
        "      #и затем берется остаток от деления на длину зашифрованного текста (len(ciphertext)).\n",
        "      #Результат добавляется к расшифрованному тексту.\n",
        "        decrypted_text += ciphertext[(i * mod_inverse(key, len(ciphertext))) % len(ciphertext)]\n",
        "    return decrypted_text\n",
        "\n",
        "key = 3\n",
        "plaintext = \"HELLO\"\n",
        "encrypted_text = linear_permutation_encrypt(plaintext, key)\n",
        "decrypted_text = linear_permutation_decrypt(encrypted_text, key)\n",
        "\n",
        "print(\"Исходный текст:\", plaintext)\n",
        "print(\"Зашифрованный текст:\", encrypted_text)\n",
        "print(\"Расшифрованный текст:\", decrypted_text)"
      ],
      "metadata": {
        "id": "a-LrVRH5jSs6",
        "colab": {
          "base_uri": "https://localhost:8080/"
        },
        "outputId": "2ac979c2-41da-4190-d3b7-219c35fd0464"
      },
      "execution_count": 90,
      "outputs": [
        {
          "output_type": "stream",
          "name": "stdout",
          "text": [
            "Исходный текст: HELLO\n",
            "Зашифрованный текст: HLEOL\n",
            "Расшифрованный текст: HELLO\n"
          ]
        }
      ]
    },
    {
      "cell_type": "markdown",
      "source": [
        "Табличная перестановка по ключу"
      ],
      "metadata": {
        "id": "9ubnBcBKjUFb"
      }
    },
    {
      "cell_type": "code",
      "source": [
        "def table_permutation_encrypt(plaintext, key):\n",
        "    #Создание порядка перестановки (key_order) путем сортировки индексов ключа (key).\n",
        "    #Таким образом, мы определяем порядок, в котором символы будут переставляться.\n",
        "    #Лямбда-функции - это анонимные (безымянные) функции в Python, которые создаются с использованием ключевого слова lambda\n",
        "    key_order = sorted(range(len(str(key))), key=lambda k: str(key)[k])\n",
        "  # Создание зашифрованного текста путем объединения символов открытого текста в соответствии с порядком перестановки.\n",
        "    encrypted_text = ''.join(plaintext[i] for i in key_order)\n",
        "    return encrypted_text\n",
        "\n",
        "def table_permutation_decrypt(ciphertext, key):\n",
        "  #Создание порядка перестановки (key_order) путем сортировки индексов ключа (key).\n",
        "    key_order = sorted(range(len(str(key))), key=lambda k: str(key)[k])\n",
        "    #Создание порядка дешифровки (decryption_order) путем получения индексов из key_order.\n",
        "    #Это определяет порядок, в котором символы будут возвращены на их исходные места.\n",
        "    decryption_order = [key_order.index(i) for i in range(len(key_order))]\n",
        "    #Создание порядка дешифровки (decryption_order) путем получения индексов из key_order.\n",
        "    #Это определяет порядок, в котором символы будут возвращены на их исходные места.\n",
        "    decrypted_text = ''.join(ciphertext[i] for i in decryption_order)\n",
        "    return decrypted_text\n",
        "\n",
        "key = 31242\n",
        "plaintext = \"HELLO\"\n",
        "encrypted_text = table_permutation_encrypt(plaintext, key)\n",
        "decrypted_text = table_permutation_decrypt(encrypted_text, key)\n",
        "\n",
        "print(\"Исходный текст:\", plaintext)\n",
        "print(\"Зашифрованный текст:\", encrypted_text)\n",
        "print(\"Расшифрованный текст:\", decrypted_text)"
      ],
      "metadata": {
        "id": "AJeVYB1LjWBR",
        "colab": {
          "base_uri": "https://localhost:8080/"
        },
        "outputId": "b1dcbfda-fb7e-495c-ae20-7a120ade2ce6"
      },
      "execution_count": 91,
      "outputs": [
        {
          "output_type": "stream",
          "name": "stdout",
          "text": [
            "Исходный текст: HELLO\n",
            "Зашифрованный текст: ELOHL\n",
            "Расшифрованный текст: HELLO\n"
          ]
        }
      ]
    },
    {
      "cell_type": "markdown",
      "source": [
        "Перестановка \"Магический квадрат\""
      ],
      "metadata": {
        "id": "SMDXiNSijXHE"
      }
    },
    {
      "cell_type": "code",
      "source": [
        "def magic_square_permutation_encrypt(plaintext, key):\n",
        "  #Создание порядка перестановки (key_order) путем преобразования каждого символа в ключе (key) в целое число и помещения его в список.\n",
        "  #Таким образом, мы определяем порядок, в котором символы будут переставляться.\n",
        "    key_order = [int(char) for char in str(key)]\n",
        "    encrypted_text = ''.join(plaintext[i] for i in key_order) #Создание зашифрованного текста путем объединения символов открытого текста в соответствии с порядком перестановки.\n",
        "    return encrypted_text # Возврат зашифрованного текста.\n",
        "\n",
        "def magic_square_permutation_decrypt(ciphertext, key):\n",
        "    key_order = [int(char) for char in str(key)]\n",
        "    #Создание порядка дешифровки (decryption_order) путем получения индексов из key_order.\n",
        "    #Это определяет порядок, в котором символы будут возвращены на их исходные места.\n",
        "    decryption_order = sorted(range(len(key_order)), key=lambda k: key_order[k])\n",
        "    # Восстанавливаем порядок дешифровки с повторяющимися значениями\n",
        "    decrypted_text = ''.join(ciphertext[i] for i in decryption_order)\n",
        "    # Создаем расшифрованный текст\n",
        "    return decrypted_text\n",
        "\n",
        "# Создаем случайный ключ\n",
        "key = 12340\n",
        "print(key)\n",
        "# Шифруем и расшифровываем\n",
        "plaintext = \"HELLO\"\n",
        "encrypted_text = magic_square_permutation_encrypt(plaintext, key)\n",
        "decrypted_text = magic_square_permutation_decrypt(encrypted_text, key)\n",
        "\n",
        "print(\"Исходный текст:\", plaintext)\n",
        "print(\"Зашифрованный текст:\", encrypted_text)\n",
        "print(\"Расшифрованный текст:\", decrypted_text)\n"
      ],
      "metadata": {
        "id": "6bIYJYv2jYuU",
        "colab": {
          "base_uri": "https://localhost:8080/"
        },
        "outputId": "921b1a54-f14f-4de0-a076-7df54bc9e6b5"
      },
      "execution_count": 92,
      "outputs": [
        {
          "output_type": "stream",
          "name": "stdout",
          "text": [
            "12340\n",
            "Исходный текст: HELLO\n",
            "Зашифрованный текст: ELLOH\n",
            "Расшифрованный текст: HELLO\n"
          ]
        }
      ]
    },
    {
      "cell_type": "markdown",
      "source": [
        "алгоритма Вижинера"
      ],
      "metadata": {
        "id": "deYZIwktjZxg"
      }
    },
    {
      "cell_type": "code",
      "source": [
        "def vigenere_encrypt(plaintext, key):\n",
        "    encrypted_text = \"\"\n",
        "    key_repeated = (key * (len(plaintext) // len(key) + 1))[:len(plaintext)]\n",
        "\n",
        "    for i in range(len(plaintext)):\n",
        "        char_plain = plaintext[i] # Берем символ из открытого текста\n",
        "        char_key = key_repeated[i] # Берем символ из повторяющегося ключа\n",
        "        if char_plain.isalpha(): # Проверяем, является ли символ буквой\n",
        "            shift = (ord(char_key.upper()) - ord('A')) # Вычисляем сдвиг на основе символа ключа\n",
        "            if char_plain.islower():\n",
        "                encrypted_char = chr((ord(char_plain) - ord('a') + shift) % 26 + ord('a')) # Шифруем строчную букву\n",
        "            else:\n",
        "                encrypted_char = chr((ord(char_plain) - ord('A') + shift) % 26 + ord('A')) # Шифруем заглавную букву\n",
        "            encrypted_text += encrypted_char # Добавляем зашифрованный символ к зашифрованному тексту\n",
        "        else:\n",
        "            encrypted_text += char_plain # Если символ не является буквой, оставляем его без изменений\n",
        "\n",
        "    return encrypted_text\n",
        "\n",
        "def vigenere_decrypt(encrypted_text, key):\n",
        "    decrypted_text = \"\"\n",
        "    key_repeated = (key * (len(encrypted_text) // len(key) + 1))[:len(encrypted_text)]\n",
        "\n",
        "    for i in range(len(encrypted_text)):\n",
        "        char_encrypted = encrypted_text[i]  # Берем символ из зашифрованного текста\n",
        "        char_key = key_repeated[i]  # Берем символ из повторяющегося ключа\n",
        "\n",
        "        if char_encrypted.isalpha():\n",
        "            shift = (ord(char_key.upper()) - ord('A')) # Вычисляем сдвиг на основе символа ключа\n",
        "            if char_encrypted.islower():\n",
        "                decrypted_char = chr((ord(char_encrypted) - ord('a') - shift) % 26 + ord('a')) # Дешифруем строчную букву\n",
        "            else:\n",
        "                decrypted_char = chr((ord(char_encrypted) - ord('A') - shift) % 26 + ord('A')) # Дешифруем заглавную букву\n",
        "            decrypted_text += decrypted_char\n",
        "        else:\n",
        "            decrypted_text += char_encrypted # Добавляем дешифрованный символ к дешифрованному тексту\n",
        "\n",
        "    return decrypted_text\n",
        "\n",
        "# Пример использования\n",
        "plaintext = \"HELLO\"\n",
        "print(\"Исходный текст:\",plaintext)\n",
        "key = \"ice\"\n",
        "\n",
        "# Шифрование\n",
        "encrypted_text = vigenere_encrypt(plaintext, key)\n",
        "print(\"Шифрованный текст:\", encrypted_text)\n",
        "\n",
        "# Расшифровка\n",
        "decrypted_text = vigenere_decrypt(encrypted_text, key)\n",
        "print(\"Расшифрованный текст:\", decrypted_text)\n"
      ],
      "metadata": {
        "colab": {
          "base_uri": "https://localhost:8080/"
        },
        "id": "KTDCNZMjEBPA",
        "outputId": "3d3d8975-d8ad-477c-e4d9-e976ac050aaf"
      },
      "execution_count": 93,
      "outputs": [
        {
          "output_type": "stream",
          "name": "stdout",
          "text": [
            "Исходный текст: HELLO\n",
            "Шифрованный текст: PGPTQ\n",
            "Расшифрованный текст: HELLO\n"
          ]
        }
      ]
    },
    {
      "cell_type": "markdown",
      "source": [
        "Аффинный шифр"
      ],
      "metadata": {
        "id": "rSSyE3ssjeBM"
      }
    },
    {
      "cell_type": "code",
      "source": [
        "# Функция gcd_extended(a, b) возвращает расширенный алгоритм Евклида для a и b.\n",
        "def gcd_extended(a, b):\n",
        "    if a == 0:\n",
        "        return b, 0, 1\n",
        "    else:\n",
        "        g, x, y = gcd_extended(b % a, a)\n",
        "        return g, y - (b // a) * x, x\n",
        "# Функция mod_inverse(a, m) возвращает модульное обратное к a по модулю m.\n",
        "def mod_inverse(a, m):\n",
        "    g, x, y = gcd_extended(a, m)\n",
        "    if g != 1:\n",
        "        raise Exception(\"The modular inverse does not exist.\")\n",
        "    else:\n",
        "        return x % m\n",
        "\n",
        "def affine_encrypt(plaintext, a, b):\n",
        "    ciphertext = \"\"\n",
        "    m = 26  # Размер алфавита для примера (латинский алфавит)\n",
        "\n",
        "    for char in plaintext:\n",
        "        if char.isalpha():\n",
        "            if char.islower():\n",
        "                encrypted_char = chr((a * (ord(char) - ord('a')) + b) % m + ord('a'))\n",
        "            else:\n",
        "                encrypted_char = chr((a * (ord(char) - ord('A')) + b) % m + ord('A'))\n",
        "            ciphertext += encrypted_char\n",
        "        else:\n",
        "            ciphertext += char\n",
        "\n",
        "    return ciphertext\n",
        "# Функция affine_encrypt(plaintext, a, b) шифрует открытый текст с использованием аффинного шифра.# Функция affine_decrypt(ciphertext, a, b) расшифровывает зашифрованный текст.\n",
        "def affine_decrypt(ciphertext, a, b):\n",
        "    decrypted_text = \"\"\n",
        "    m = 26  # Размер алфавита для примера (латинский алфавит)\n",
        "    a_inv = mod_inverse(a, m)\n",
        "\n",
        "    for char in ciphertext:\n",
        "        if char.isalpha():\n",
        "            if char.islower():\n",
        "              #Вычисление расшифрованной буквы с использованием обратного по модулю числа и обратной аффинной формулы\n",
        "                decrypted_char = chr((a_inv * (ord(char) - ord('a') - b)) % m + ord('a'))\n",
        "            else:\n",
        "                decrypted_char = chr((a_inv * (ord(char) - ord('A') - b)) % m + ord('A'))\n",
        "            decrypted_text += decrypted_char\n",
        "        else:\n",
        "            decrypted_text += char\n",
        "\n",
        "    return decrypted_text\n",
        "\n",
        "# Пример использования\n",
        "plaintext = \"HELLO\"\n",
        "print(\"Plaintext:\", plaintext)\n",
        "\n",
        "a = 3\n",
        "b = 7\n",
        "\n",
        "# Шифрование\n",
        "encrypted_text = affine_encrypt(plaintext, a, b)\n",
        "print(\"Шифрованный текст:\", encrypted_text)\n",
        "\n",
        "# Расшифровка\n",
        "decrypted_text = affine_decrypt(encrypted_text, a, b)\n",
        "print(\"Расшифрованный текст:\", decrypted_text)"
      ],
      "metadata": {
        "colab": {
          "base_uri": "https://localhost:8080/"
        },
        "id": "y-NCg2xrMuNN",
        "outputId": "048ba055-6e2c-4fea-d2e7-26f81b518c33"
      },
      "execution_count": 94,
      "outputs": [
        {
          "output_type": "stream",
          "name": "stdout",
          "text": [
            "Plaintext: HELLO\n",
            "Шифрованный текст: CTOOX\n",
            "Расшифрованный текст: HELLO\n"
          ]
        }
      ]
    }
  ]
}