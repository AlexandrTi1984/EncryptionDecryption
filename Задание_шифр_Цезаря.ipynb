{
  "nbformat": 4,
  "nbformat_minor": 0,
  "metadata": {
    "colab": {
      "provenance": []
    },
    "kernelspec": {
      "name": "python3",
      "display_name": "Python 3"
    },
    "language_info": {
      "name": "python"
    }
  },
  "cells": [
    {
      "cell_type": "markdown",
      "source": [
        "Симметричное шифрование.\n",
        "Алгоритм Цезаря.\n",
        "\n",
        "Шифр Цезаря — это вид шифра подстановки, в котором каждый символ в открытом тексте заменяется символом, находящимся на некотором постоянном числе позиций левее или правее него в алфавите. Например, в шифре со сдвигом вправо на 3, А была бы заменена на Г, Б станет Д, и так далее"
      ],
      "metadata": {
        "id": "kJudR1Fjr3_y"
      }
    },
    {
      "cell_type": "code",
      "source": [
        "def encrypt(message, key):  #Шифрование\n",
        "    encrypted_message = \"\" # Инициализация переменной для хранения зашифрованного сообщения\n",
        "    for char in message:\n",
        "        if char.isalpha():# Проверяем, является ли символ буквой\n",
        "            shift = key % 26 # Вычисляем сдвиг, используя ключ (остаток от деления на 26)\n",
        "            if char.islower(): # Проверяем, является ли символ строчной буквой\n",
        "            # Шифруем строчную букву с использованием сдвига и остатка от деления\n",
        "                encrypted_message += chr((ord(char) - ord('a') + shift) % 26 + ord('a'))\n",
        "            else:\n",
        "              # Шифруем заглавную букву с использованием сдвига и остатка от деления\n",
        "                encrypted_message += chr((ord(char) - ord('A') + shift) % 26 + ord('A'))\n",
        "        else:\n",
        "          # Если символ не является буквой, оставляем его без изменений\n",
        "            encrypted_message += char\n",
        "    return encrypted_message # Возвращаем зашифрованное сообщение\n",
        "\n",
        "def decrypt(encrypted_message, key): #Дешифрование\n",
        "    decrypted_message = \"\" # Инициализация переменной для хранения расшифрованного сообщения\n",
        "    for char in encrypted_message:\n",
        "        if char.isalpha(): # Проверяем, является ли символ буквой\n",
        "            shift = key % 26 # Вычисляем сдвиг, используя ключ (остаток от деления на 26)\n",
        "            if char.islower(): # Проверяем, является ли символ строчной буквой\n",
        "            # Дешифруем строчную букву с использованием сдвига и остатка от деления\n",
        "                decrypted_message += chr((ord(char) - ord('a') - shift) % 26 + ord('a'))\n",
        "            else:\n",
        "              # Дешифруем заглавную букву с использованием сдвига и остатка от деления\n",
        "                decrypted_message += chr((ord(char) - ord('A') - shift) % 26 + ord('A'))\n",
        "        else:\n",
        "          # Если символ не является буквой, оставляем его без изменений\n",
        "            decrypted_message += char\n",
        "    return decrypted_message  # Возвращаем расшифрованное сообщение\n",
        "\n",
        "def brute_force(encrypted_message):\n",
        "    brute_force_results = [] # Инициализация списка для хранения результатов взлома\n",
        "    for key in range(26): # Перебор всех возможных ключей в алфавите\n",
        "        decrypted_message = decrypt(encrypted_message, key) # Расшифровка с текущим ключом\n",
        "        brute_force_results.append(decrypted_message) # Добавление расшифрованного сообщения в список результатов\n",
        "    return brute_force_results # Возвращаем список возможных расшифрований"
      ],
      "metadata": {
        "id": "fk2k2-nzsYtx"
      },
      "execution_count": 10,
      "outputs": []
    },
    {
      "cell_type": "markdown",
      "source": [
        "Для проверки работы программы, вы можете использовать следующий код:"
      ],
      "metadata": {
        "id": "anwQfq6vfXVS"
      }
    },
    {
      "cell_type": "code",
      "source": [
        "message = \"Hello, World!\"\n",
        "key = 3\n",
        "\n",
        "encrypted_message = encrypt(message, key)\n",
        "print(f\"Encrypted message: {encrypted_message}\")\n",
        "\n",
        "decrypted_message = decrypt(encrypted_message, key)\n",
        "print(f\"Decrypted message: {decrypted_message}\")\n",
        "\n",
        "brute_force_results = brute_force(encrypted_message)\n",
        "print(f\"Brute force results: {brute_force_results}\")"
      ],
      "metadata": {
        "colab": {
          "base_uri": "https://localhost:8080/"
        },
        "id": "49ogNGqCfX8o",
        "outputId": "eb631717-654f-4fd1-f6b5-bd59ac7902c2"
      },
      "execution_count": 11,
      "outputs": [
        {
          "output_type": "stream",
          "name": "stdout",
          "text": [
            "Encrypted message: Khoor, Zruog!\n",
            "Decrypted message: Hello, World!\n",
            "Brute force results: ['Khoor, Zruog!', 'Jgnnq, Yqtnf!', 'Ifmmp, Xpsme!', 'Hello, World!', 'Gdkkn, Vnqkc!', 'Fcjjm, Umpjb!', 'Ebiil, Tloia!', 'Dahhk, Sknhz!', 'Czggj, Rjmgy!', 'Byffi, Qilfx!', 'Axeeh, Phkew!', 'Zwddg, Ogjdv!', 'Yvccf, Nficu!', 'Xubbe, Mehbt!', 'Wtaad, Ldgas!', 'Vszzc, Kcfzr!', 'Uryyb, Jbeyq!', 'Tqxxa, Iadxp!', 'Spwwz, Hzcwo!', 'Rovvy, Gybvn!', 'Qnuux, Fxaum!', 'Pmttw, Ewztl!', 'Olssv, Dvysk!', 'Nkrru, Cuxrj!', 'Mjqqt, Btwqi!', 'Lipps, Asvph!']\n"
          ]
        }
      ]
    },
    {
      "cell_type": "markdown",
      "source": [
        "Этот код шифрует сообщение, затем расшифровывает его обратно, и, наконец, использует метод перебора для расшифровки зашифрованного сообщения. Результаты всех операций выводится на экран."
      ],
      "metadata": {
        "id": "NHWWo72GffPR"
      }
    }
  ]
}